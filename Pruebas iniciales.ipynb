{
 "cells": [
  {
   "cell_type": "code",
   "execution_count": 28,
   "id": "b6618965",
   "metadata": {},
   "outputs": [],
   "source": [
    "import coc\n",
    "import asyncio"
   ]
  },
  {
   "cell_type": "code",
   "execution_count": 29,
   "id": "fde59f09",
   "metadata": {},
   "outputs": [],
   "source": [
    "with open(\"token\") as f:\n",
    "    token = f.readlines()[0][:-1]"
   ]
  },
  {
   "cell_type": "code",
   "execution_count": 31,
   "id": "660064c8",
   "metadata": {},
   "outputs": [],
   "source": [
    "async def main():\n",
    "    async with coc.Client() as coc_client:\n",
    "        try:\n",
    "            await coc_client.login(\"email\", \"password\")\n",
    "        except coc.invalidcredentials as error:\n",
    "            exit(error)\n",
    "\n",
    "        player = await client.get_player(\"tag\")\n",
    "        print(f\"{player.name} has {player.trophies} trophies!\")\n",
    "\n",
    "        clans = await client.search_clans(name=\"best clan ever\", limit=5)\n",
    "        for clan in clans:\n",
    "            print(f\"{clan.name} ({clan.tag}) has {clan.member_count} members\")\n",
    "\n",
    "        try:\n",
    "            war = await client.get_current_war(\"#clantag\")\n",
    "            print(f\"{war.clan_tag} is currently in {war.state} state.\")\n",
    "        except coc.privatewarlog:\n",
    "            print(\"uh oh, they have a private war log!\")"
   ]
  },
  {
   "cell_type": "code",
   "execution_count": null,
   "id": "32f611dc",
   "metadata": {},
   "outputs": [],
   "source": []
  }
 ],
 "metadata": {
  "kernelspec": {
   "display_name": "Python 3 (ipykernel)",
   "language": "python",
   "name": "python3"
  },
  "language_info": {
   "codemirror_mode": {
    "name": "ipython",
    "version": 3
   },
   "file_extension": ".py",
   "mimetype": "text/x-python",
   "name": "python",
   "nbconvert_exporter": "python",
   "pygments_lexer": "ipython3",
   "version": "3.9.2"
  }
 },
 "nbformat": 4,
 "nbformat_minor": 5
}
